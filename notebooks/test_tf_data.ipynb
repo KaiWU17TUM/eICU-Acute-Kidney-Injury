{
 "cells": [
  {
   "cell_type": "code",
   "execution_count": 1,
   "id": "11df043d",
   "metadata": {},
   "outputs": [
    {
     "name": "stdout",
     "output_type": "stream",
     "text": [
      "/home/dhm/workspace/conference_projects/MICCAI2022_AKF_feature_importance\n"
     ]
    }
   ],
   "source": [
    "import os\n",
    "from pathlib import Path\n",
    "os.chdir(os.path.abspath(\"./..\"))\n",
    "\n",
    "import numpy as np\n",
    "import pandas as pd\n",
    "import matplotlib.pyplot as plt\n",
    "from tqdm import tqdm\n",
    "import seaborn as sns\n",
    "import datetime\n",
    "\n",
    "from utils.data_io import *\n",
    "from utils.common import *\n",
    "\n",
    "import tensorflow as tf\n",
    "from tensorflow import keras\n",
    "from tensorflow.keras import layers\n",
    "from tensorflow.keras.layers import Input, Masking, Dropout, Dense, Conv1D, GRU, LSTM, BatchNormalization\n",
    "import tensorboard\n",
    "import tensorflow_addons as tfa\n",
    "\n",
    "tf.config.run_functions_eagerly(True)\n",
    "# tf.config.threading.set_inter_op_parallelism_threads(0)\n",
    "\n",
    "from src.dx5849_training_data_3src import *\n",
    "\n",
    "\n",
    "def data_zero_masking(data):\n",
    "    data[np.isnan(data)] = 0\n",
    "    return data\n",
    "\n",
    "root_folder = os.path.abspath('.')\n",
    "data_folder = os.path.join(root_folder, 'processed/patient_data/dx_pred_0_12_3src')"
   ]
  },
  {
   "cell_type": "code",
   "execution_count": 7,
   "id": "71730d7d",
   "metadata": {},
   "outputs": [
    {
     "name": "stdout",
     "output_type": "stream",
     "text": [
      "b'/home/dhm/workspace/conference_projects/MICCAI2022_AKF_feature_importance/processed/patient_data/dx_pred_0_12_3src/raw/neg/info/1679493_0.csv'\n",
      "b'/home/dhm/workspace/conference_projects/MICCAI2022_AKF_feature_importance/processed/patient_data/dx_pred_0_12_3src/raw/neg/info/215476_0.csv'\n",
      "b'/home/dhm/workspace/conference_projects/MICCAI2022_AKF_feature_importance/processed/patient_data/dx_pred_0_12_3src/ts_aligned/pos/data/1029907_2.csv'\n",
      "b'/home/dhm/workspace/conference_projects/MICCAI2022_AKF_feature_importance/processed/patient_data/dx_pred_0_12_3src/ts_aligned/pos/data/790396_0.csv'\n",
      "b'/home/dhm/workspace/conference_projects/MICCAI2022_AKF_feature_importance/processed/patient_data/dx_pred_0_12_3src/raw/neg/info/1291125_0.csv'\n",
      "b'/home/dhm/workspace/conference_projects/MICCAI2022_AKF_feature_importance/processed/patient_data/dx_pred_0_12_3src/raw/neg/data/3155303_0.csv'\n",
      "b'/home/dhm/workspace/conference_projects/MICCAI2022_AKF_feature_importance/processed/patient_data/dx_pred_0_12_3src/raw/neg/info/1120677_0.csv'\n",
      "b'/home/dhm/workspace/conference_projects/MICCAI2022_AKF_feature_importance/processed/patient_data/dx_pred_0_12_3src/raw/neg/data/1562883_0.csv'\n",
      "b'/home/dhm/workspace/conference_projects/MICCAI2022_AKF_feature_importance/processed/patient_data/dx_pred_0_12_3src/ts_aligned/neg/data/3020834_0.csv'\n",
      "b'/home/dhm/workspace/conference_projects/MICCAI2022_AKF_feature_importance/processed/patient_data/dx_pred_0_12_3src/ts_aligned/neg/data/2804368_0.csv'\n"
     ]
    }
   ],
   "source": [
    "def generate_balanced_dataset_raw(sample_list, sample_label,\n",
    "                                  file_folder=os.path.join(os.path.abspath('.'), 'processed/patient_data/dx_pred_0_12_3src/ts_aligned'),\n",
    "                                  resample_freq=None):\n",
    "    \n",
    "    path = {\n",
    "        'pos': os.path.join(file_folder, 'pos/data'),\n",
    "        'neg': os.path.join(file_folder, 'neg/data'),\n",
    "    }\n",
    "    info_path = {\n",
    "        'pos': os.path.join(file_folder, 'pos/info')\n",
    "        'neg': os.path.join(file_folder, 'neg/info'),\n",
    "    }\n",
    "    \n",
    "    N_sample = {}\n",
    "    N_sample['total'] = len(sample_label)\n",
    "    N_sample['pos'] = sum(sample_label)\n",
    "    N_sample['neg'] = N_sample - N_sample_pos\n",
    "\n",
    "    idx = {\n",
    "        'pos': np.where(np.array(sample_label) == 1)[0],\n",
    "        'neg': np.where(np.array(sample_label) == 0)[0]\n",
    "    } \n",
    "    \n",
    "    info_set = {'pos': [], 'neg':[]}\n",
    "    data_set = {'pos': [], 'neg':[]}\n",
    "    label_set = {'pos': [], 'neg':[]}         \n",
    "    \n",
    "    tf_dataset = {\n",
    "        'pos': {},\n",
    "        'neg': {},\n",
    "    }\n",
    "    \n",
    "    for data_label in ['pos', 'neg']:\n",
    "        for i in tqdm(range(N_sample[data_label])):\n",
    "            info = pd.read_csv(os.path.join(info_path[data_label], sample + '.csv'), sep=';', header=0, index_col=0)\n",
    "            data = pd.read_csv(os.path.join(path[data_label], sample + '.csv'), sep=';', header=0, index_col=0)\n",
    "            \n",
    "            if resample_freq:\n",
    "                data = resample_aligned_data(data, resample_freq)\n",
    "\n",
    "            info = info.to_numpy().flatten()\n",
    "            data = data.to_numpy()\n",
    "            info_set[data_label].append(info)\n",
    "            data_set[data_label].append(data)\n",
    "            label_set[data_label].append(label)\n",
    "            \n",
    "        tf_dataset[data_label] = tf.data.Dataset.from_tensor_slices(({'static_inputs': info_set[data_label],\n",
    "                                                                     'time_series_inputs': data_set[data_label]}, \n",
    "                                                                     train_labels))             \n",
    "            \n",
    "\n",
    "    return tf_dataset"
   ]
  },
  {
   "cell_type": "code",
   "execution_count": null,
   "id": "ad51ae3f",
   "metadata": {},
   "outputs": [],
   "source": []
  }
 ],
 "metadata": {
  "kernelspec": {
   "display_name": "tf-py38",
   "language": "python",
   "name": "tf-py38"
  },
  "language_info": {
   "codemirror_mode": {
    "name": "ipython",
    "version": 3
   },
   "file_extension": ".py",
   "mimetype": "text/x-python",
   "name": "python",
   "nbconvert_exporter": "python",
   "pygments_lexer": "ipython3",
   "version": "3.8.5"
  }
 },
 "nbformat": 4,
 "nbformat_minor": 5
}
