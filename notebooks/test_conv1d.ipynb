{
 "cells": [
  {
   "cell_type": "code",
   "execution_count": 1,
   "id": "19b9ec7e",
   "metadata": {},
   "outputs": [
    {
     "name": "stdout",
     "output_type": "stream",
     "text": [
      "/home/dhm/workspace/conference_projects/MICCAI2022_AKF_feature_importance\n"
     ]
    },
    {
     "name": "stderr",
     "output_type": "stream",
     "text": [
      "2022-01-04 12:56:20.173234: I tensorflow/core/platform/cpu_feature_guard.cc:151] This TensorFlow binary is optimized with oneAPI Deep Neural Network Library (oneDNN) to use the following CPU instructions in performance-critical operations:  AVX2 FMA\n",
      "To enable them in other operations, rebuild TensorFlow with the appropriate compiler flags.\n",
      "2022-01-04 12:56:20.236566: I tensorflow/stream_executor/cuda/cuda_gpu_executor.cc:939] successful NUMA node read from SysFS had negative value (-1), but there must be at least one NUMA node, so returning NUMA node zero\n",
      "2022-01-04 12:56:20.263685: I tensorflow/stream_executor/cuda/cuda_gpu_executor.cc:939] successful NUMA node read from SysFS had negative value (-1), but there must be at least one NUMA node, so returning NUMA node zero\n",
      "2022-01-04 12:56:20.263849: I tensorflow/stream_executor/cuda/cuda_gpu_executor.cc:939] successful NUMA node read from SysFS had negative value (-1), but there must be at least one NUMA node, so returning NUMA node zero\n",
      "2022-01-04 12:56:20.845219: I tensorflow/stream_executor/cuda/cuda_gpu_executor.cc:939] successful NUMA node read from SysFS had negative value (-1), but there must be at least one NUMA node, so returning NUMA node zero\n",
      "2022-01-04 12:56:20.845394: I tensorflow/stream_executor/cuda/cuda_gpu_executor.cc:939] successful NUMA node read from S"
     ]
    },
    {
     "data": {
      "text/plain": [
       "'/device:GPU:0'"
      ]
     },
     "execution_count": 1,
     "metadata": {},
     "output_type": "execute_result"
    },
    {
     "name": "stderr",
     "output_type": "stream",
     "text": [
      "ysFS had negative value (-1), but there must be at least one NUMA node, so returning NUMA node zero\n",
      "2022-01-04 12:56:20.845522: I tensorflow/stream_executor/cuda/cuda_gpu_executor.cc:939] successful NUMA node read from SysFS had negative value (-1), but there must be at least one NUMA node, so returning NUMA node zero\n",
      "2022-01-04 12:56:20.846083: I tensorflow/core/common_runtime/gpu/gpu_device.cc:1525] Created device /device:GPU:0 with 6098 MB memory:  -> device: 0, name: NVIDIA GeForce RTX 2080 SUPER, pci bus id: 0000:02:00.0, compute capability: 7.5\n"
     ]
    }
   ],
   "source": [
    "import os\n",
    "from pathlib import Path\n",
    "os.chdir(os.path.abspath(\"./..\"))\n",
    "\n",
    "import numpy as np\n",
    "import pandas as pd\n",
    "import matplotlib.pyplot as plt\n",
    "from tqdm import tqdm\n",
    "import seaborn as sns\n",
    "import datetime\n",
    "\n",
    "from utils.data_io import *\n",
    "from utils.common import *\n",
    "\n",
    "import tensorflow as tf\n",
    "from tensorflow import keras\n",
    "from tensorflow.keras import layers\n",
    "from tensorflow.keras.layers import Input, Masking, Dropout, Dense, Conv1D, GRU, LSTM, BatchNormalization\n",
    "import tensorboard\n",
    "import tensorflow_addons as tfa\n",
    "\n",
    "tf.config.run_functions_eagerly(True)\n",
    "# tf.config.threading.set_inter_op_parallelism_threads(0)\n",
    "\n",
    "from src.dx5849_training_data_3src import *\n",
    "\n",
    "\n",
    "def data_zero_masking(data):\n",
    "    data[np.isnan(data)] = 0\n",
    "    return data\n",
    "\n",
    "root_folder = os.path.abspath('.')\n",
    "data_folder = os.path.join(root_folder, 'processed/patient_data/dx_pred_0_12_3src')\n",
    "\n",
    "X_train, X_test, y_train, y_test = np.load(os.path.join(data_folder, 'data_split_8020.npy'), allow_pickle=True)\n",
    "X_train = np.array(X_train)\n",
    "X_test = np.array(X_test)\n",
    "y_train = np.array(y_train)\n",
    "y_test = np.array(y_test)\n",
    "\n",
    "info_test, data_test, label_test = np.load(os.path.join(data_folder, 'test_data.npy'), allow_pickle=True)\n",
    "info_test = data_zero_masking(info_test)\n",
    "data_test = data_zero_masking(data_test)[:,:,1:]\n",
    "\n",
    "tf.test.gpu_device_name()"
   ]
  },
  {
   "cell_type": "code",
   "execution_count": 2,
   "id": "94b26c9a",
   "metadata": {},
   "outputs": [
    {
     "name": "stdout",
     "output_type": "stream",
     "text": [
      "Masked Input:  (None, 144, 25)\n",
      "Conv1D:  (None, 1, 75)\n",
      "Concanated input for Dense layers:  (None, 79)\n",
      "Dense1:  (None, 32)\n",
      "Dense2:  (None, 16)\n",
      "Output:  (None, 1)\n",
      "Model: \"model\"\n",
      "__________________________________________________________________________________________________\n",
      " Layer (type)                   Output Shape         Param #     Connected to                     \n",
      "==================================================================================================\n",
      " time_series_inputs (InputLayer  [(None, 144, 25)]   0           []                               \n",
      " )                                                                                                \n",
      "                                                                                                  \n",
      " masking (Masking)              (None, 144, 25)      0           ['time_series_inputs[0][0]']     \n",
      "                                                                                                  \n",
      " norm_input (BatchNormalization  (None, 144, 25)     100         ['masking[0][0]']                \n",
      " )                                                                                                \n",
      "                                                                                                  \n",
      " conv1d (Conv1D)                (None, 1, 75)        10875       ['norm_input[0][0]']             \n",
      "                                                                                                  \n",
      " static_inputs (InputLayer)     [(None, 4)]          0           []                               \n",
      "                                                                                                  \n",
      " tf.reshape (TFOpLambda)        (None, 75)           0           ['conv1d[0][0]']                 \n",
      "                                                                                                  \n",
      " concatenate (Concatenate)      (None, 79)           0           ['static_inputs[0][0]',          \n",
      "                                                                  'tf.reshape[0][0]']             \n",
      "                                                                                                  \n",
      " dense1 (Dense)                 (None, 32)           2560        ['concatenate[0][0]']            \n",
      "                                                                                                  \n",
      " dropout (Dropout)              (None, 32)           0           ['dense1[0][0]']                 \n",
      "                                                                                                  \n",
      " norm_dense1 (BatchNormalizatio  (None, 32)          128         ['dropout[0][0]']                \n",
      " n)                                                                                               \n",
      "                                                                                                  \n",
      " dense2 (Dense)                 (None, 16)           528         ['norm_dense1[0][0]']            \n",
      "                                                                                                  \n",
      " dropout_1 (Dropout)            (None, 16)           0           ['dense2[0][0]']                 \n",
      "                                                                                                  \n",
      " norm_dense2 (BatchNormalizatio  (None, 16)          64          ['dropout_1[0][0]']              \n",
      " n)                                                                                               \n",
      "                                                                                                  \n",
      " output (Dense)                 (None, 1)            17          ['norm_dense2[0][0]']            \n",
      "                                                                                                  \n",
      "==================================================================================================\n",
      "Total params: 14,272\n",
      "Trainable params: 14,126\n",
      "Non-trainable params: 146\n",
      "__________________________________________________________________________________________________\n"
     ]
    },
    {
     "name": "stderr",
     "output_type": "stream",
     "text": [
      "2021-12-14 00:58:53.868112: I tensorflow/stream_executor/cuda/cuda_gpu_executor.cc:939] successful NUMA node read from SysFS had negative value (-1), but there must be at least one NUMA node, so returning NUMA node zero\n",
      "2021-12-14 00:58:53.868348: I tensorflow/stream_executor/cuda/cuda_gpu_executor.cc:939] successful NUMA node read from SysFS had negative value (-1), but there must be at least one NUMA node, so returning NUMA node zero\n",
      "2021-12-14 00:58:53.868479: I tensorflow/stream_executor/cuda/cuda_gpu_executor.cc:939] successful NUMA node read from SysFS had negative value (-1), but there must be at least one NUMA node, so returning NUMA node zero\n",
      "2021-12-14 00:58:53.868751: I tensorflow/stream_executor/cuda/cuda_gpu_executor.cc:939] successful NUMA node read from SysFS had negative value (-1), but there must be at least one NUMA node, so returning NUMA node zero\n",
      "2021-12-14 00:58:53.868876: I tensorflow/stream_executor/cuda/cuda_gpu_executor.cc:939] successful NUMA node read from SysFS had negative value (-1), but there must be at least one NUMA node, so returning NUMA node zero\n",
      "2021-12-14 00:58:53.868989: I tensorflow/stream_executor/cuda/cuda_gpu_executor.cc:939] successful NUMA node read from SysFS had negative value (-1), but there must be at least one NUMA node, so returning NUMA node zero\n",
      "2021-12-14 00:58:53.869141: I tensorflow/stream_executor/cuda/cuda_gpu_executor.cc:939] successful NUMA node read from SysFS had negative value (-1), but there must be at least one NUMA node, so returning NUMA node zero\n",
      "2021-12-14 00:58:53.869261: I tensorflow/stream_executor/cuda/cuda_gpu_executor.cc:939] successful NUMA node read from SysFS had negative value (-1), but there must be at least one NUMA node, so returning NUMA node zero\n",
      "2021-12-14 00:58:53.869357: I tensorflow/core/common_runtime/gpu/gpu_device.cc:1525] Created device /job:localhost/replica:0/task:0/device:GPU:0 with 5949 MB memory:  -> device: 0, name: NVIDIA GeForce RTX 2080 SUPER, pci bus id: 0000:02:00.0, compute capability: 7.5\n"
     ]
    }
   ],
   "source": [
    "static_input_shape = (4)\n",
    "time_series_shape = (144, 25)\n",
    "N_filter_per_feature = 3\n",
    "\n",
    "static_inputs = Input(shape=static_input_shape, dtype='float64', name='static_inputs')\n",
    "time_series_inputs = Input(shape=time_series_shape, dtype='float64', name='time_series_inputs')\n",
    "\n",
    "x = time_series_inputs\n",
    "x = Masking(mask_value=.0)(x)\n",
    "x = BatchNormalization(axis=2, name='norm_input')(x)\n",
    "print('Masked Input: ', x.shape)\n",
    "x = Conv1D(filters=N_filter_per_feature*25, kernel_size=144, groups=25,\n",
    "           activation='relu', \n",
    "           name='conv1d')(x)\n",
    "print('Conv1D: ', x.shape)\n",
    "\n",
    "x = tf.reshape(x, [-1, x.shape[1]*x.shape[2]])\n",
    "x = layers.concatenate([static_inputs, x])\n",
    "print('Concanated input for Dense layers: ', x.shape)\n",
    "\n",
    "x = Dense(32, activation='relu', name='dense1')(x)\n",
    "print('Dense1: ', x.shape)\n",
    "x = Dropout(0.5)(x)\n",
    "x = BatchNormalization(name='norm_dense1')(x)\n",
    "\n",
    "x = Dense(16, activation='relu', name='dense2')(x)\n",
    "print('Dense2: ', x.shape)\n",
    "x = Dropout(0.5)(x)\n",
    "x = BatchNormalization(name='norm_dense2')(x)\n",
    "\n",
    "output = Dense(1, activation='sigmoid', name='output')(x)\n",
    "print('Output: ', output.shape)\n",
    "\n",
    "model = keras.Model(inputs=[static_inputs, time_series_inputs], \n",
    "                    outputs=[output])\n",
    "\n",
    "model.summary()\n",
    "\n",
    "METRICS = [\n",
    "      keras.metrics.TruePositives(name='tp'),\n",
    "      keras.metrics.FalsePositives(name='fp'),\n",
    "      keras.metrics.TrueNegatives(name='tn'),\n",
    "      keras.metrics.FalseNegatives(name='fn'), \n",
    "      keras.metrics.BinaryAccuracy(name='accuracy'),\n",
    "      keras.metrics.Precision(name='precision'),\n",
    "      keras.metrics.Recall(name='recall'),\n",
    "      keras.metrics.AUC(name='auc'),\n",
    "      keras.metrics.AUC(name='prc', curve='PR'), # precision-recall curve\n",
    "]\n",
    "\n",
    "log_names = ['loss', 'tp', 'fp', 'tn', 'fn', 'accuracy', 'precision', 'recall', 'auc', 'prc']\n",
    "\n",
    "\n",
    "# LOSS = keras.losses.BinaryCrossentropy(name='loss')\n",
    "LOSS = tfa.losses.SigmoidFocalCrossEntropy(alpha=0.75, gamma=2, name='loss')\n",
    "model.compile(\n",
    "    optimizer=keras.optimizers.Adam(learning_rate=1e-3),\n",
    "    loss=LOSS,\n",
    "    metrics=METRICS,\n",
    ")"
   ]
  },
  {
   "cell_type": "code",
   "execution_count": 3,
   "id": "c0adc003",
   "metadata": {},
   "outputs": [
    {
     "data": {
      "text/plain": [
       "(0.22135170189644898, 0.22133417464156763)"
      ]
     },
     "execution_count": 3,
     "metadata": {},
     "output_type": "execute_result"
    }
   ],
   "source": [
    "sum(y_train) / len(y_train), sum(y_test) / len(y_test) "
   ]
  },
  {
   "cell_type": "code",
   "execution_count": 4,
   "id": "203b2d28",
   "metadata": {},
   "outputs": [
    {
     "data": {
      "text/plain": [
       "(114108, 25258, 28527, 6314)"
      ]
     },
     "execution_count": 4,
     "metadata": {},
     "output_type": "execute_result"
    }
   ],
   "source": [
    "len(y_train), sum(y_train), len(y_test), sum(y_test)"
   ]
  },
  {
   "cell_type": "code",
   "execution_count": 3,
   "id": "62a034a0",
   "metadata": {
    "scrolled": true
   },
   "outputs": [
    {
     "name": "stderr",
     "output_type": "stream",
     "text": [
      "2021-12-14 10:37:27.870256: I tensorflow/stream_executor/cuda/cuda_gpu_executor.cc:939] successful NUMA node read from SysFS had negative value (-1), but there must be at least one NUMA node, so returning NUMA node zero\n",
      "2021-12-14 10:37:27.870664: I tensorflow/stream_executor/cuda/cuda_gpu_executor.cc:939] successful NUMA node read from SysFS had negative value (-1), but there must be at least one NUMA node, so returning NUMA node zero\n",
      "2021-12-14 10:37:27.870982: I tensorflow/stream_executor/cuda/cuda_gpu_executor.cc:939] successful NUMA node read from SysFS had negative value (-1), but there must be at least one NUMA node, so returning NUMA node zero\n",
      "2021-12-14 10:37:27.871647: I tensorflow/stream_executor/cuda/cuda_gpu_executor.cc:939] successful NUMA node read from SysFS had negative value (-1), but there must be at least one NUMA node, so returning NUMA node zero\n",
      "2021-12-14 10:37:27.871957: I tensorflow/stream_executor/cuda/cuda_gpu_executor.cc:939] successful NUMA node read from SysFS had negative value (-1), but there must be at least one NUMA node, so returning NUMA node zero\n",
      "2021-12-14 10:37:27.872218: I tensorflow/stream_executor/cuda/cuda_gpu_executor.cc:939] successful NUMA node read from SysFS had negative value (-1), but there must be at least one NUMA node, so returning NUMA node zero\n",
      "2021-12-14 10:37:27.872561: I tensorflow/stream_executor/cuda/cuda_gpu_executor.cc:939] successful NUMA node read from SysFS had negative value (-1), but there must be at least one NUMA node, so returning NUMA node zero\n",
      "2021-12-14 10:37:27.872835: I tensorflow/stream_executor/cuda/cuda_gpu_executor.cc:939] successful NUMA node read from SysFS had negative value (-1), but there must be at least one NUMA node, so returning NUMA node zero\n",
      "2021-12-14 10:37:27.873047: I tensorflow/core/common_runtime/gpu/gpu_device.cc:1525] Created device /job:localhost/replica:0/task:0/device:GPU:0 with 5517 MB memory:  -> device: 0, name: NVIDIA GeForce RTX 2080 SUPER, pci bus id: 0000:02:00.0, compute capability: 7.5\n"
     ]
    },
    {
     "ename": "NameError",
     "evalue": "name 'model' is not defined",
     "output_type": "error",
     "traceback": [
      "\u001b[0;31m---------------------------------------------------------------------------\u001b[0m",
      "\u001b[0;31mNameError\u001b[0m                                 Traceback (most recent call last)",
      "\u001b[0;32m/tmp/ipykernel_25191/3274447440.py\u001b[0m in \u001b[0;36m<module>\u001b[0;34m\u001b[0m\n\u001b[1;32m     30\u001b[0m         \u001b[0mdata\u001b[0m \u001b[0;34m=\u001b[0m \u001b[0mdata_zero_masking\u001b[0m\u001b[0;34m(\u001b[0m\u001b[0mdata\u001b[0m\u001b[0;34m)\u001b[0m\u001b[0;34m[\u001b[0m\u001b[0;34m:\u001b[0m\u001b[0;34m,\u001b[0m\u001b[0;34m:\u001b[0m\u001b[0;34m,\u001b[0m\u001b[0;36m1\u001b[0m\u001b[0;34m:\u001b[0m\u001b[0;34m]\u001b[0m\u001b[0;34m\u001b[0m\u001b[0;34m\u001b[0m\u001b[0m\n\u001b[1;32m     31\u001b[0m \u001b[0;34m\u001b[0m\u001b[0m\n\u001b[0;32m---> 32\u001b[0;31m         log_train = model.train_on_batch({'static_inputs': info, 'time_series_inputs': data},\n\u001b[0m\u001b[1;32m     33\u001b[0m                                          \u001b[0mlabel\u001b[0m\u001b[0;34m,\u001b[0m\u001b[0;34m\u001b[0m\u001b[0;34m\u001b[0m\u001b[0m\n\u001b[1;32m     34\u001b[0m                                          reset_metrics=False, return_dict=True)\n",
      "\u001b[0;31mNameError\u001b[0m: name 'model' is not defined"
     ]
    }
   ],
   "source": [
    "epoch = 5\n",
    "cv_splits = 20\n",
    "batch_size = 256\n",
    "\n",
    "current_time = datetime.datetime.now().strftime(\"%Y%m%d-%H%M%S\")\n",
    "\n",
    "\n",
    "train_log_dir = 'models/Conv1D/logs/' + current_time + '/train'\n",
    "test_log_dir = 'models/Conv1D/logs/' + current_time + '/test'\n",
    "train_summary_writer = tf.summary.create_file_writer(train_log_dir)\n",
    "test_summary_writer = tf.summary.create_file_writer(test_log_dir)\n",
    "\n",
    "class_weight = {\n",
    "    0: sum(y_train) / len(y_train),\n",
    "    1: 1 - sum(y_train) / len(y_train),\n",
    "}\n",
    "\n",
    "\n",
    "batches_processed_counter = 0\n",
    "\n",
    "for epoch_i in range(epoch):\n",
    "    batch_generator = generate_data_batch_raw(X_train, y_train,\n",
    "                                              batchsize=batch_size,\n",
    "                                              resample_freq=None)\n",
    "\n",
    "\n",
    "    for batch_i, (info, data, label) in enumerate(batch_generator):\n",
    "        batches_processed_counter = batches_processed_counter  + 1\n",
    "        info = data_zero_masking(info)\n",
    "        data = data_zero_masking(data)[:,:,1:]\n",
    "\n",
    "        log_train = model.train_on_batch({'static_inputs': info, 'time_series_inputs': data},\n",
    "                                         label,\n",
    "                                         reset_metrics=False, return_dict=True)\n",
    "        \n",
    "        with train_summary_writer.as_default():\n",
    "            for log in log_train:\n",
    "                tf.summary.scalar(log, log_train[log], step=batches_processed_counter)\n",
    "        \n",
    "\n",
    "        if batch_i % 20 == 0:\n",
    "            log_test = model.evaluate({'static_inputs': info_test, 'time_series_inputs': data_test}, \n",
    "                                      {'output': label_test}, return_dict=True)\n",
    "            \n",
    "            with test_summary_writer.as_default():\n",
    "                for log in log_test:\n",
    "                    tf.summary.scalar(log, log_test[log], step=batches_processed_counter)\n",
    "\n",
    "            print(f'Epoch: {epoch_i}, Batch: {batch_i}')\n",
    "            print('\\tTrainLoss: ', log_train['loss'], 'TrainAcc: ', log_train['accuracy'], 'TrainAUC: ', log_train['auc'])\n",
    "            print('\\tTestLoss: ', log_test['loss'], 'TestAcc: ', log_test['accuracy'], 'TestAUC: ', log_test['auc'], '\\n')\n",
    "            \n",
    "model.save('models/Conv1D/logs/' + current_time + '/model')"
   ]
  },
  {
   "cell_type": "code",
   "execution_count": 2,
   "id": "af2d0d4a",
   "metadata": {
    "scrolled": true
   },
   "outputs": [
    {
     "data": {
      "text/html": [
       "\n",
       "      <iframe id=\"tensorboard-frame-3fc22317b82e9d39\" width=\"100%\" height=\"800\" frameborder=\"0\">\n",
       "      </iframe>\n",
       "      <script>\n",
       "        (function() {\n",
       "          const frame = document.getElementById(\"tensorboard-frame-3fc22317b82e9d39\");\n",
       "          const url = new URL(\"/\", window.location);\n",
       "          const port = 6006;\n",
       "          if (port) {\n",
       "            url.port = port;\n",
       "          }\n",
       "          frame.src = url;\n",
       "        })();\n",
       "      </script>\n",
       "    "
      ],
      "text/plain": [
       "<IPython.core.display.HTML object>"
      ]
     },
     "metadata": {},
     "output_type": "display_data"
    }
   ],
   "source": [
    "logs = os.listdir('./models/Conv1D/logs/')\n",
    "log_ts = [datetime.datetime.strptime(log_ts[:15], \"%Y%m%d-%H%M%S\") for log_ts in logs]\n",
    "log_latest = logs[log_ts.index(max(log_ts))]\n",
    "\n",
    "%load_ext tensorboard\n",
    "%tensorboard --logdir ./models/Conv1D/logs/{log_latest}"
   ]
  },
  {
   "cell_type": "code",
   "execution_count": null,
   "id": "08c49d49",
   "metadata": {},
   "outputs": [],
   "source": []
  },
  {
   "cell_type": "code",
   "execution_count": null,
   "id": "2f8f2319",
   "metadata": {},
   "outputs": [],
   "source": []
  },
  {
   "cell_type": "code",
   "execution_count": null,
   "id": "1fbe0256",
   "metadata": {},
   "outputs": [],
   "source": []
  },
  {
   "cell_type": "code",
   "execution_count": 4,
   "id": "4e6b3c3a",
   "metadata": {},
   "outputs": [
    {
     "name": "stderr",
     "output_type": "stream",
     "text": [
      "2021-12-15 11:42:22.443708: I tensorflow/stream_executor/cuda/cuda_gpu_executor.cc:939] successful NUMA node read from SysFS had negative value (-1), but there must be at least one NUMA node, so returning NUMA node zero\n",
      "2021-12-15 11:42:22.443978: I tensorflow/stream_executor/cuda/cuda_gpu_executor.cc:939] successful NUMA node read from SysFS had negative value (-1), but there must be at least one NUMA node, so returning NUMA node zero\n",
      "2021-12-15 11:42:22.444151: I tensorflow/stream_executor/cuda/cuda_gpu_executor.cc:939] successful NUMA node read from SysFS had negative value (-1), but there must be at least one NUMA node, so returning NUMA node zero\n",
      "2021-12-15 11:42:22.444561: I tensorflow/stream_executor/cuda/cuda_gpu_executor.cc:939] successful NUMA node read from SysFS had negative value (-1), but there must be at least one NUMA node, so returning NUMA node zero\n",
      "2021-12-15 11:42:22.444756: I tensorflow/stream_executor/cuda/cuda_gpu_executor.cc:939] successful NUMA node read from SysFS had negative value (-1), but there must be at least one NUMA node, so returning NUMA node zero\n",
      "2021-12-15 11:42:22.444936: I tensorflow/stream_executor/cuda/cuda_gpu_executor.cc:939] successful NUMA node read from SysFS had negative value (-1), but there must be at least one NUMA node, so returning NUMA node zero\n",
      "2021-12-15 11:42:22.445163: I tensorflow/stream_executor/cuda/cuda_gpu_executor.cc:939] successful NUMA node read from SysFS had negative value (-1), but there must be at least one NUMA node, so returning NUMA node zero\n",
      "2021-12-15 11:42:22.445337: I tensorflow/stream_executor/cuda/cuda_gpu_executor.cc:939] successful NUMA node read from SysFS had negative value (-1), but there must be at least one NUMA node, so returning NUMA node zero\n",
      "2021-12-15 11:42:22.445477: I tensorflow/core/common_runtime/gpu/gpu_device.cc:1525] Created device /job:localhost/replica:0/task:0/device:GPU:0 with 6019 MB memory:  -> device: 0, name: NVIDIA GeForce RTX 2080 SUPER, pci bus id: 0000:02:00.0, compute capability: 7.5\n"
     ]
    }
   ],
   "source": [
    "model = keras.models.load_model(f\"models/Conv1D/models/{log_latest}\")"
   ]
  },
  {
   "cell_type": "code",
   "execution_count": 5,
   "id": "1a411289",
   "metadata": {},
   "outputs": [
    {
     "data": {
      "image/png": "[encoded data removed]",
      "text/plain": [
       "<Figure size 1152x576 with 1 Axes>"
      ]
     },
     "metadata": {
      "needs_background": "light"
     },
     "output_type": "display_data"
    }
   ],
   "source": [
    "# Weights of first dense layer\n",
    "\n",
    "filters, biases = model.get_layer('dense1').get_weights()\n",
    "filters.shape\n",
    "\n",
    "fig, ax = plt.subplots(figsize=(16, 8))\n",
    "\n",
    "feature_names = [\n",
    "    'Cr', 'NIBP_d','RBC', 'NIBP_s', 'GLC', 'MPV', 'MCHC', \n",
    "    'UREA', 'MCV', 'NA', 'MCH', 'RDW', 'HR', 'WBC', 'CL',\n",
    "    'SAO2', 'PLT', 'CA', 'HCO3', 'NIBP_m', 'URINE', 'MG', 'K', 'RESPIRATION', 'HBG'\n",
    "]\n",
    "\n",
    "xticks = []\n",
    "for feat in feature_names:\n",
    "    for i in ['1', '2', '3']:\n",
    "        xticks += [feat+i]\n",
    "xticks = ['gender', 'age', 'weight', 'height'] + xticks\n",
    "ax.bar(xticks, np.mean(filters, axis=1))\n",
    "ax.tick_params(labelrotation=90, labelsize=8)"
   ]
  },
  {
   "cell_type": "code",
   "execution_count": 6,
   "id": "4b513c18",
   "metadata": {},
   "outputs": [
    {
     "data": {
      "text/plain": [
       "<BarContainer object of 75 artists>"
      ]
     },
     "execution_count": 6,
     "metadata": {},
     "output_type": "execute_result"
    },
    {
     "data": {
      "image/png": "[encoded data removed]",
      "text/plain": [
       "<Figure size 1152x576 with 1 Axes>"
      ]
     },
     "metadata": {
      "needs_background": "light"
     },
     "output_type": "display_data"
    }
   ],
   "source": [
    "feature_names = [\n",
    "    'Cr', 'NIBP_d','RBC', 'NIBP_s', 'GLC', 'MPV', 'MCHC', \n",
    "    'UREA', 'MCV', 'NA', 'MCH', 'RDW', 'HR', 'WBC', 'CL',\n",
    "    'SAO2', 'PLT', 'CA', 'HCO3', 'NIBP_m', 'URINE', 'MG', 'K', 'RESPIRATION', 'HBG'\n",
    "]\n",
    "\n",
    "filters, biases = model.get_layer('conv1d').get_weights()\n",
    "f = np.mean(filters, axis=0).reshape(-1)\n",
    "\n",
    "fig, ax = plt.subplots(figsize=(16, 8))\n",
    "\n",
    "xticks = []\n",
    "for feat in feature_names:\n",
    "    for i in ['1', '2', '3']:\n",
    "        xticks += [feat+i]\n",
    "xticks = xticks\n",
    "ax.tick_params(labelrotation=90, labelsize=8)\n",
    "ax.bar(xticks, f)\n"
   ]
  },
  {
   "cell_type": "code",
   "execution_count": null,
   "id": "cff9aac1",
   "metadata": {},
   "outputs": [],
   "source": [
    "# Weights of convolutional layer\n",
    "\n",
    "feature_names = [\n",
    "    'Cr', 'NIBP_d','RBC', 'NIBP_s', 'GLC', 'MPV', 'MCHC', \n",
    "    'UREA', 'MCV', 'NA', 'MCH', 'RDW', 'HR', 'WBC', 'CL',\n",
    "    'SAO2', 'PLT', 'CA', 'HCO3', 'NIBP_m', 'URINE', 'MG', 'K', 'RESPIRATION', 'HBG'\n",
    "]\n",
    "\n",
    "\n",
    "filters, biases = model.get_layer('conv1d').get_weights()\n",
    "f = np.mean(np.mean(filters, axis=0), axis=1)\n",
    "\n",
    "fig, ax = plt.subplots(figsize=(10, 8))\n",
    "\n",
    "ax.bar(feature_names, f.flatten())\n",
    "ax.tick_params(labelrotation=90, labelsize=8)"
   ]
  },
  {
   "cell_type": "code",
   "execution_count": null,
   "id": "4fbf1f0c",
   "metadata": {},
   "outputs": [],
   "source": []
  },
  {
   "cell_type": "code",
   "execution_count": null,
   "id": "9a559243",
   "metadata": {},
   "outputs": [],
   "source": []
  },
  {
   "cell_type": "code",
   "execution_count": null,
   "id": "7335fcd5",
   "metadata": {},
   "outputs": [],
   "source": []
  },
  {
   "cell_type": "code",
   "execution_count": null,
   "id": "534beaec",
   "metadata": {},
   "outputs": [],
   "source": []
  },
  {
   "cell_type": "markdown",
   "id": "a5e7e4bf",
   "metadata": {},
   "source": [
    "# CNN kernel size adjust"
   ]
  },
  {
   "cell_type": "code",
   "execution_count": 1,
   "id": "a3e4b9b4",
   "metadata": {},
   "outputs": [
    {
     "name": "stdout",
     "output_type": "stream",
     "text": [
      "/home/dhm/workspace/conference_projects/MICCAI2022_AKF_feature_importance\n"
     ]
    }
   ],
   "source": [
    "import os\n",
    "os.chdir(os.path.abspath(\"./..\"))\n",
    "\n",
    "import datetime\n",
    "\n",
    "import tensorflow as tf\n",
    "from tensorflow import keras\n",
    "from tensorflow.keras import layers\n",
    "from tensorflow.keras.layers import Input, Masking, Dropout, Dense, Conv1D, GRU, LSTM, BatchNormalization\n",
    "import tensorflow_addons as tfa\n",
    "\n",
    "tf.config.run_functions_eagerly(True)\n",
    "\n",
    "import gc\n",
    "from tensorflow.keras import backend as k\n",
    "from tensorflow.keras.callbacks import Callback\n",
    "\n",
    "from src.dx5849_training_data_3src import *\n",
    "\n",
    "\n",
    "class ClearMemory(Callback):\n",
    "    def on_epoch_end(self, epoch, logs=None):\n",
    "        gc.collect()\n",
    "        k.clear_session()\n",
    "\n",
    "\n",
    "def data_zero_masking(data):\n",
    "    data[np.isnan(data)] = 0\n",
    "    return data\n",
    "\n",
    "def build_model(kernel_size=10, n_filter=3, dense_layer=[128]):\n",
    "    # Model Setup\n",
    "    static_input_shape = (4)\n",
    "    time_series_shape = (144, 25)\n",
    "\n",
    "    static_inputs = Input(shape=static_input_shape, dtype='float64', name='static_inputs')\n",
    "    time_series_inputs = Input(shape=time_series_shape, dtype='float64', name='time_series_inputs')\n",
    "\n",
    "    x = time_series_inputs\n",
    "    x = Masking(mask_value=.0)(x)\n",
    "    x = BatchNormalization(axis=2, name='norm_input')(x)\n",
    "    # print('Masked Input: ', x.shape)\n",
    "    x = Conv1D(filters=n_filter*25, kernel_size=kernel_size, groups=25,\n",
    "               activation='relu',\n",
    "               name='conv1d')(x)\n",
    "    # print('Conv1D: ', x.shape)\n",
    "\n",
    "    x = tf.reshape(x, [-1, x.shape[1]*x.shape[2]])\n",
    "    x = layers.concatenate([static_inputs, x])\n",
    "    # print('Concanated input for Dense layers: ', x.shape)\n",
    "    \n",
    "    for dense_i, dense_size in enumerate(dense_layer):\n",
    "        x = Dense(dense_size, activation='relu', name=f'dense_{dense_i}')(x)\n",
    "        # print('Dense1: ', x.shape)\n",
    "        x = Dropout(0.5)(x)\n",
    "        x = BatchNormalization(name=f'norm_dense_{dense_i}')(x)\n",
    "\n",
    "    output = Dense(1, activation='sigmoid', name='output')(x)\n",
    "    # print('Output: ', output.shape)\n",
    "\n",
    "    model = keras.Model(inputs=[static_inputs, time_series_inputs],\n",
    "                        outputs=[output])\n",
    "    return model"
   ]
  },
  {
   "cell_type": "code",
   "execution_count": 2,
   "id": "7272c11c",
   "metadata": {},
   "outputs": [
    {
     "name": "stderr",
     "output_type": "stream",
     "text": [
      "/home/dhm/workspace/conference_projects/tf-py38/lib/python3.8/site-packages/tensorflow/python/data/ops/dataset_ops.py:4526: UserWarning: Even though the `tf.config.experimental_run_functions_eagerly` option is set, this option does not apply to tf.data functions. To force eager execution of tf.data functions, please use `tf.data.experimental.enable_debug_mode()`.\n",
      "  warnings.warn(\n",
      "2022-01-05 00:17:10.139571: I tensorflow/stream_executor/cuda/cuda_gpu_executor.cc:939] successful NUMA node read from SysFS had negative value (-1), but there must be at least one NUMA node, so returning NUMA node zero\n",
      "2022-01-05 00:17:10.143345: I tensorflow/stream_executor/cuda/cuda_gpu_executor.cc:939] successful NUMA node read from SysFS had negative value (-1), but there must be at least one NUMA node, so returning NUMA node zero\n",
      "2022-01-05 00:17:10.143502: I tensorflow/stream_executor/cuda/cuda_gpu_executor.cc:939] successful NUMA node read from SysFS had negative value (-1), but there must be at least one NUMA node, so returning NUMA node zero\n",
      "2022-01-05 00:17:10.143802: I tensorflow/core/platform/cpu_feature_guard.cc:151] This TensorFlow binary is optimized with oneAPI Deep Neural Network Library (oneDNN) to use the following CPU instructions in performance-critical operations:  AVX2 FMA\n",
      "To enable them in other operations, rebuild TensorFlow with the appropriate compiler flags.\n",
      "2022-01-05 00:17:10.144043: I tensorflow/stream_executor/cuda/cuda_gpu_executor.cc:939] successful NUMA node read from SysFS had negative value (-1), but there must be at least one NUMA node, so returning NUMA node zero\n",
      "2022-01-05 00:17:10.144191: I tensorflow/stream_executor/cuda/cuda_gpu_executor.cc:939] successful NUMA node read from SysFS had negative value (-1), but there must be at least one NUMA node, so returning NUMA node zero\n",
      "2022-01-05 00:17:10.144325: I tensorflow/stream_executor/cuda/cuda_gpu_executor.cc:939] successful NUMA node read from SysFS had negative value (-1), but there must be at least one NUMA node, so returning NUMA node zero\n",
      "2022-01-05 00:17:10.477329: I tensorflow/stream_executor/cuda/cuda_gpu_executor.cc:939] successful NUMA node read from SysFS had negative value (-1), but there must be at least one NUMA node, so returning NUMA node zero\n",
      "2022-01-05 00:17:10.477492: I tensorflow/stream_executor/cuda/cuda_gpu_executor.cc:939] successful NUMA node read from SysFS had negative value (-1), but there must be at least one NUMA node, so returning NUMA node zero\n",
      "2022-01-05 00:17:10.477615: I tensorflow/stream_executor/cuda/cuda_gpu_executor.cc:939] successful NUMA node read from SysFS had negative value (-1), but there must be at least one NUMA node, so returning NUMA node zero\n",
      "2022-01-05 00:17:10.477727: I tensorflow/core/common_runtime/gpu/gpu_device.cc:1525] Created device /job:localhost/replica:0/task:0/device:GPU:0 with 6163 MB memory:  -> device: 0, name: NVIDIA GeForce RTX 2080 SUPER, pci bus id: 0000:02:00.0, compute capability: 7.5\n"
     ]
    }
   ],
   "source": [
    "root_folder = os.path.abspath('.')\n",
    "data_folder = os.path.join(root_folder, 'processed/patient_data/dx_pred_6_12_3src')\n",
    "\n",
    "_, X_test, _, y_test = np.load(os.path.join(data_folder, 'data_split_8020.npy'), allow_pickle=True)\n",
    "X_test = np.array(X_test)\n",
    "y_test = np.array(y_test)\n",
    "\n",
    "info_test, data_test, label_test = np.load(os.path.join(data_folder, 'test_data.npy'), allow_pickle=True)\n",
    "info_test = data_zero_masking(info_test)\n",
    "data_test = data_zero_masking(data_test)[:,:,1:]\n",
    "\n",
    "N_val = int(len(label_test)/2)\n",
    "dataset_val = ({'static_inputs': info_test[:N_val], 'time_series_inputs': data_test[:N_val]}, label_test[:N_val])\n",
    "dataset_test = ({'static_inputs': info_test[N_val:], 'time_series_inputs': data_test[N_val:]}, label_test[N_val:])\n",
    "\n",
    "EPOCH = 100\n",
    "BATCH_SIZE = 256\n",
    "# ds_test = tf.data.experimental.load('processed/patient_data/dx_pred_0_12_3src/tf_dataset/dataset_test')\n",
    "ds_pos = tf.data.experimental.load(os.path.join(data_folder, 'tf_dataset/dataset_train_pos'))\n",
    "ds_neg = tf.data.experimental.load(os.path.join(data_folder, 'tf_dataset/dataset_train_neg'))\n",
    "ds_train = generate_equally_resampled_tf_dataset(ds_pos, ds_neg)\n",
    "ds_train = ds_train.batch(BATCH_SIZE).prefetch(2)\n",
    "STEP_PER_EPOCH = np.ceil(2 * ds_neg.cardinality().numpy() / BATCH_SIZE)\n",
    "\n",
    "METRICS = [\n",
    "      keras.metrics.TruePositives(name='tp'),\n",
    "      keras.metrics.FalsePositives(name='fp'),\n",
    "      keras.metrics.TrueNegatives(name='tn'),\n",
    "      keras.metrics.FalseNegatives(name='fn'),\n",
    "      keras.metrics.BinaryAccuracy(name='accuracy'),\n",
    "      keras.metrics.Precision(name='precision'),\n",
    "      keras.metrics.Recall(name='recall'),\n",
    "      keras.metrics.AUC(name='auc'),\n",
    "      keras.metrics.AUC(name='prc', curve='PR'), # precision-recall curve\n",
    "]\n",
    "\n",
    "LOSS = tfa.losses.SigmoidFocalCrossEntropy(alpha=0.75, gamma=2, name='loss')"
   ]
  },
  {
   "cell_type": "code",
   "execution_count": null,
   "id": "9e5bdad9",
   "metadata": {},
   "outputs": [],
   "source": [
    "KERNEL_SIZES = [10, 20, 30, 40, 50]\n",
    "FILTER_NUMS = [1, 2, 3, 4, 5]\n",
    "DENSE_LAYERS = [[128], [256], [128, 64]]\n",
    "\n",
    "for n_filter in FILTER_NUMS:\n",
    "    for kernel_size in KERNEL_SIZES:\n",
    "        for dense_layer in DENSE_LAYERS:\n",
    "            \n",
    "            model = build_model(n_filter=n_filter, kernel_size=kernel_size, dense_layer=dense_layer)\n",
    "            model.summary()\n",
    "            \n",
    "            current_time = datetime.datetime.now().strftime(\"%Y%m%d-%H%M%S\")\n",
    "            CALLBACKS = [\n",
    "                keras.callbacks.EarlyStopping(\n",
    "                    monitor=\"val_loss\",\n",
    "                    min_delta=1e-5,\n",
    "                    patience=5,\n",
    "                    verbose=1,\n",
    "                ),\n",
    "\n",
    "                keras.callbacks.ModelCheckpoint(\n",
    "                    filepath=f'./models/Conv1D/models/{current_time}_F{n_filter}_K{kernel_size}_D{dense_layer}',\n",
    "                    save_weights_only=False,\n",
    "                    monitor='val_loss',\n",
    "                    mode='min',\n",
    "                    save_best_only=True,\n",
    "                    save_freq='epoch',\n",
    "                ),\n",
    "\n",
    "                keras.callbacks.TensorBoard(log_dir=f\"./models/Conv1D/logs/{current_time}_F{n_filter}_K{kernel_size}_D{dense_layer}\"),\n",
    "\n",
    "                ClearMemory(),\n",
    "            ]\n",
    "            \n",
    "            model.compile(\n",
    "                optimizer=keras.optimizers.Adam(learning_rate=1e-4),\n",
    "                loss=LOSS,\n",
    "                metrics=METRICS,\n",
    "                run_eagerly=True,\n",
    "            )\n",
    "            \n",
    "            history = model.fit(\n",
    "                ds_train,\n",
    "                epochs=EPOCH,\n",
    "                steps_per_epoch=STEP_PER_EPOCH,\n",
    "                # validation_steps=int(0.1 * STEP_PER_EPOCH),\n",
    "                # validation_freq=1,\n",
    "                validation_data=(dataset_val[0], dataset_val[1]),\n",
    "                callbacks=CALLBACKS,\n",
    "            )\n",
    "            np.save(os.path.join(os.path.abspath(\"/home/dhm/workspace/conference_projects/MICCAI2022_AKF_feature_importance/models/Conv1D/logs\"), current_time, 'train_history'), \n",
    "                    allow_pickle=True)"
   ]
  },
  {
   "cell_type": "code",
   "execution_count": 3,
   "id": "40ac980b",
   "metadata": {},
   "outputs": [
    {
     "data": {
      "text/plain": [
       "'[128, 64]'"
      ]
     },
     "execution_count": 3,
     "metadata": {},
     "output_type": "execute_result"
    }
   ],
   "source": [
    "f'{[128, 64]}'"
   ]
  },
  {
   "cell_type": "code",
   "execution_count": null,
   "id": "4cc8b0bb",
   "metadata": {},
   "outputs": [],
   "source": []
  },
  {
   "cell_type": "code",
   "execution_count": null,
   "id": "e407bfe1",
   "metadata": {},
   "outputs": [],
   "source": []
  },
  {
   "cell_type": "code",
   "execution_count": null,
   "id": "9c8d0dcb",
   "metadata": {},
   "outputs": [],
   "source": []
  },
  {
   "cell_type": "code",
   "execution_count": null,
   "id": "852cc19c",
   "metadata": {},
   "outputs": [],
   "source": []
  },
  {
   "cell_type": "code",
   "execution_count": null,
   "id": "55549eaf",
   "metadata": {},
   "outputs": [],
   "source": []
  },
  {
   "cell_type": "code",
   "execution_count": null,
   "id": "784b8d3d",
   "metadata": {},
   "outputs": [],
   "source": []
  },
  {
   "cell_type": "code",
   "execution_count": null,
   "id": "75c2febc",
   "metadata": {},
   "outputs": [],
   "source": []
  }
 ],
 "metadata": {
  "kernelspec": {
   "display_name": "tf-py38",
   "language": "python",
   "name": "tf-py38"
  },
  "language_info": {
   "codemirror_mode": {
    "name": "ipython",
    "version": 3
   },
   "file_extension": ".py",
   "mimetype": "text/x-python",
   "name": "python",
   "nbconvert_exporter": "python",
   "pygments_lexer": "ipython3",
   "version": "3.8.5"
  }
 },
 "nbformat": 4,
 "nbformat_minor": 5
}
