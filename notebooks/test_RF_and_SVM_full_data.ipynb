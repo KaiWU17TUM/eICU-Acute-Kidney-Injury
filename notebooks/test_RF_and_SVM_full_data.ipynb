{
 "cells": [
  {
   "cell_type": "code",
   "execution_count": 1,
   "id": "5f403835",
   "metadata": {},
   "outputs": [],
   "source": [
    "import os\n",
    "os.chdir('./..')\n",
    "\n",
    "import numpy as np\n",
    "import pandas as pd\n",
    "import matplotlib.pyplot as plt\n",
    "from tqdm import tqdm\n",
    "import seaborn as sns\n",
    "\n",
    "from sklearn.utils import shuffle\n",
    "from sklearn.model_selection import train_test_split\n",
    "from sklearn.impute import SimpleImputer\n",
    "from sklearn.preprocessing import Normalizer\n",
    "from sklearn.inspection import permutation_importance\n",
    "from sklearn.model_selection import cross_val_score\n",
    "from scipy import stats\n",
    "from sklearn.ensemble import RandomForestClassifier\n",
    "from sklearn import svm\n",
    "from sklearn.metrics import accuracy_score, recall_score, precision_score, f1_score, roc_auc_score\n",
    "\n",
    "from src.create_dataset_torch import *\n",
    "\n",
    "\n",
    "import warnings\n",
    "warnings.filterwarnings(\"ignore\")\n",
    "\n",
    "import shap\n",
    "\n",
    "import pickle"
   ]
  },
  {
   "cell_type": "code",
   "execution_count": 3,
   "id": "d677257c",
   "metadata": {},
   "outputs": [
    {
     "name": "stderr",
     "output_type": "stream",
     "text": [
      "100%|██████████| 1003/1003 [05:53<00:00,  2.84it/s]\n",
      "100%|██████████| 112/112 [00:24<00:00,  4.53it/s]\n",
      "100%|██████████| 1003/1003 [05:05<00:00,  3.28it/s]\n",
      "100%|██████████| 112/112 [00:34<00:00,  3.25it/s]\n",
      "100%|██████████| 1003/1003 [05:01<00:00,  3.33it/s]\n",
      "100%|██████████| 112/112 [00:25<00:00,  4.42it/s]\n"
     ]
    }
   ],
   "source": [
    "pred = 0\n",
    "imp = 'mean'\n",
    "\n",
    "for resample in [None, 30, 60]:\n",
    "    if not resample:\n",
    "        data_len = 144\n",
    "    elif resample == 30:\n",
    "        data_len = 24\n",
    "    elif resample == 60:\n",
    "        data_len = 12\n",
    "\n",
    "    root_folder = os.path.join(os.path.abspath('.'), f'processed/patient_data/dx_pred_{pred}_12_3src')\n",
    "    data_folder = os.path.join(os.path.abspath('.'), f'processed/patient_data/dx_pred_{pred}_12_3src/ts_aligned')\n",
    "    data_split = np.load(os.path.join(root_folder, 'data_split.npy'), allow_pickle=True).item()\n",
    "    X_train = data_split['X_train']\n",
    "    y_train = data_split['y_train']\n",
    "    X_val = data_split['X_val']\n",
    "    y_val = data_split['y_val']\n",
    "    X_test = data_split['X_test']\n",
    "    y_test = data_split['y_test']\n",
    "\n",
    "    ds_train = PatientDataset(data_folder, X_train+X_val, y_train+y_val, \n",
    "                              model_type='SVM', imputation=imp, resample_rate=resample)\n",
    "    loader_train = DataLoader(ds_train, batch_size=128, \n",
    "                              sampler=ImbalancedDatasetSampler(ds_train), num_workers=8)\n",
    "\n",
    "    ds_test = PatientDataset(data_folder, X_test, y_test, \n",
    "                             model_type='SVM', imputation=imp, resample_rate=resample)\n",
    "    loader_test = DataLoader(ds_test, batch_size=128, num_workers=8)\n",
    "\n",
    "\n",
    "    data_train = torch.empty((0, 4+data_len*33))\n",
    "    label_train = torch.empty(0)\n",
    "    for data in tqdm(loader_train):\n",
    "        data_ = data['data']['static'].reshape(data['data']['static'].shape[0], -1)\n",
    "        data_ = torch.concat((data_, \n",
    "                              data['data']['time_series'].reshape(data['data']['time_series'].shape[0], -1)),\n",
    "                              dim=1)\n",
    "        data_train = torch.concat((data_train, data_), dim=0)\n",
    "        label_train = torch.concat((label_train, data['label']), dim=0)\n",
    "\n",
    "    data_test = torch.empty((0, 4+data_len*33))\n",
    "    label_test = torch.empty(0)\n",
    "    for data in tqdm(loader_test):\n",
    "        data_ = data['data']['static'].reshape(data['data']['static'].shape[0], -1)\n",
    "        data_ = torch.concat((data_, \n",
    "                              data['data']['time_series'].reshape(data['data']['time_series'].shape[0], -1)),\n",
    "                              dim=1)\n",
    "        data_test = torch.concat((data_test, data_), dim=0)\n",
    "        label_test = torch.concat((label_test, data['label']), dim=0)\n",
    "\n",
    "    data_train = data_train.numpy()\n",
    "    label_train = label_train.numpy()\n",
    "\n",
    "    data_test = data_test.numpy()\n",
    "    label_test = label_test.numpy()\n",
    "    \n",
    "    if not resample:\n",
    "        resample = 5\n",
    "    np.savez(os.path.join(root_folder, f'ts_aligned_stacked_{pred}_{imp}_{resample}.npz'), \n",
    "             X_train=data_train, y_train=label_train, \n",
    "             X_test=data_test, y_test=label_test,\n",
    "             allow_pickle=True)"
   ]
  },
  {
   "cell_type": "markdown",
   "id": "78ed0c57",
   "metadata": {},
   "source": [
    "# Determine tree depth for different sampling frequency"
   ]
  },
  {
   "cell_type": "code",
   "execution_count": 4,
   "id": "3b2ded54",
   "metadata": {},
   "outputs": [
    {
     "name": "stderr",
     "output_type": "stream",
     "text": [
      "\r",
      "  0%|          | 0/10 [00:00<?, ?it/s]"
     ]
    },
    {
     "name": "stdout",
     "output_type": "stream",
     "text": [
      "DEPTH 41\n"
     ]
    },
    {
     "name": "stderr",
     "output_type": "stream",
     "text": [
      "\r",
      " 10%|█         | 1/10 [11:33<1:44:03, 693.74s/it]"
     ]
    },
    {
     "name": "stdout",
     "output_type": "stream",
     "text": [
      "SampleRate 5 - Tree Depth: 41 - CV Score: [0.91937683 0.91882839 0.92128223 0.91719249 0.92186648] - Val Score: 0.7973219293325855\n",
      "DEPTH 42\n"
     ]
    },
    {
     "name": "stderr",
     "output_type": "stream",
     "text": [
      "\r",
      " 20%|██        | 2/10 [22:59<1:31:52, 689.11s/it]"
     ]
    },
    {
     "name": "stdout",
     "output_type": "stream",
     "text": [
      "SampleRate 5 - Tree Depth: 42 - CV Score: [0.91918208 0.91836099 0.92081483 0.91886734 0.92136013] - Val Score: 0.7987240605720696\n",
      "DEPTH 43\n"
     ]
    },
    {
     "name": "stderr",
     "output_type": "stream",
     "text": [
      "\r",
      " 30%|███       | 3/10 [34:11<1:19:28, 681.20s/it]"
     ]
    },
    {
     "name": "stdout",
     "output_type": "stream",
     "text": [
      "SampleRate 5 - Tree Depth: 43 - CV Score: [0.91957157 0.91882839 0.92136013 0.91769884 0.92186648] - Val Score: 0.7976724621424566\n",
      "DEPTH 44\n"
     ]
    },
    {
     "name": "stderr",
     "output_type": "stream",
     "text": [
      "\r",
      " 40%|████      | 4/10 [46:13<1:09:44, 697.42s/it]"
     ]
    },
    {
     "name": "stdout",
     "output_type": "stream",
     "text": [
      "SampleRate 5 - Tree Depth: 44 - CV Score: [0.92077897 0.91945159 0.92132118 0.91871154 0.92093168] - Val Score: 0.8045429052159282\n",
      "DEPTH 45\n"
     ]
    },
    {
     "name": "stderr",
     "output_type": "stream",
     "text": [
      "\r",
      " 50%|█████     | 5/10 [57:36<57:40, 692.20s/it]  "
     ]
    },
    {
     "name": "stdout",
     "output_type": "stream",
     "text": [
      "SampleRate 5 - Tree Depth: 45 - CV Score: [0.92144109 0.91882839 0.92284023 0.91882839 0.92116538] - Val Score: 0.801668536174986\n",
      "DEPTH 46\n"
     ]
    },
    {
     "name": "stderr",
     "output_type": "stream",
     "text": [
      "\r",
      " 60%|██████    | 6/10 [1:09:23<46:28, 697.09s/it]"
     ]
    },
    {
     "name": "stdout",
     "output_type": "stream",
     "text": [
      "SampleRate 5 - Tree Depth: 46 - CV Score: [0.92105161 0.91949054 0.92237283 0.91956843 0.92311288] - Val Score: 0.8006870443073472\n",
      "DEPTH 47\n"
     ]
    },
    {
     "name": "stderr",
     "output_type": "stream",
     "text": [
      "\r",
      " 70%|███████   | 7/10 [1:21:06<34:57, 699.14s/it]"
     ]
    },
    {
     "name": "stdout",
     "output_type": "stream",
     "text": [
      "SampleRate 5 - Tree Depth: 47 - CV Score: [0.92116845 0.91945159 0.92248968 0.91898419 0.92330763] - Val Score: 0.803771733034212\n",
      "DEPTH 48\n"
     ]
    },
    {
     "name": "stderr",
     "output_type": "stream",
     "text": [
      "\r",
      " 80%|████████  | 8/10 [1:33:00<23:27, 703.80s/it]"
     ]
    },
    {
     "name": "stdout",
     "output_type": "stream",
     "text": [
      "SampleRate 5 - Tree Depth: 48 - CV Score: [0.92144109 0.92093168 0.92284023 0.91980213 0.92361923] - Val Score: 0.8008272574312956\n",
      "DEPTH 49\n"
     ]
    },
    {
     "name": "stderr",
     "output_type": "stream",
     "text": [
      "\r",
      " 90%|█████████ | 9/10 [1:44:36<11:41, 701.42s/it]"
     ]
    },
    {
     "name": "stdout",
     "output_type": "stream",
     "text": [
      "SampleRate 5 - Tree Depth: 49 - CV Score: [0.92206426 0.92019163 0.92432032 0.91980213 0.92322973] - Val Score: 0.8001261918115535\n",
      "DEPTH 50\n"
     ]
    },
    {
     "name": "stderr",
     "output_type": "stream",
     "text": [
      "100%|██████████| 10/10 [1:56:47<00:00, 700.76s/it]"
     ]
    },
    {
     "name": "stdout",
     "output_type": "stream",
     "text": [
      "SampleRate 5 - Tree Depth: 50 - CV Score: [0.92093476 0.91976318 0.92319078 0.91968528 0.92295708] - Val Score: 0.8036315199102636\n"
     ]
    },
    {
     "name": "stderr",
     "output_type": "stream",
     "text": [
      "\n",
      "  0%|          | 0/10 [00:00<?, ?it/s]"
     ]
    },
    {
     "name": "stdout",
     "output_type": "stream",
     "text": [
      "DEPTH 41\n"
     ]
    },
    {
     "name": "stderr",
     "output_type": "stream",
     "text": [
      "\r",
      " 10%|█         | 1/10 [05:11<46:45, 311.69s/it]"
     ]
    },
    {
     "name": "stdout",
     "output_type": "stream",
     "text": [
      "SampleRate 30 - Tree Depth: 41 - CV Score: [0.92276534 0.92802057 0.92322973 0.92451507 0.92622887] - Val Score: 0.8122546270330903\n",
      "DEPTH 42\n"
     ]
    },
    {
     "name": "stderr",
     "output_type": "stream",
     "text": [
      "\r",
      " 20%|██        | 2/10 [10:17<41:04, 308.10s/it]"
     ]
    },
    {
     "name": "stdout",
     "output_type": "stream",
     "text": [
      "SampleRate 30 - Tree Depth: 42 - CV Score: [0.92467381 0.92895536 0.92361923 0.92564462 0.92478772] - Val Score: 0.8136567582725743\n",
      "DEPTH 43\n"
     ]
    },
    {
     "name": "stderr",
     "output_type": "stream",
     "text": [
      "\r",
      " 30%|███       | 3/10 [15:19<35:37, 305.37s/it]"
     ]
    },
    {
     "name": "stdout",
     "output_type": "stream",
     "text": [
      "SampleRate 30 - Tree Depth: 43 - CV Score: [0.92623174 0.92950066 0.92451507 0.92396977 0.92521617] - Val Score: 0.8170919798093101\n",
      "DEPTH 44\n"
     ]
    },
    {
     "name": "stderr",
     "output_type": "stream",
     "text": [
      "\r",
      " 40%|████      | 4/10 [20:32<30:51, 308.51s/it]"
     ]
    },
    {
     "name": "stdout",
     "output_type": "stream",
     "text": [
      "SampleRate 30 - Tree Depth: 44 - CV Score: [0.92331061 0.92938381 0.92599517 0.92490457 0.92708577] - Val Score: 0.8149186763881099\n",
      "DEPTH 45\n"
     ]
    },
    {
     "name": "stderr",
     "output_type": "stream",
     "text": [
      "\r",
      " 50%|█████     | 5/10 [25:51<26:01, 312.38s/it]"
     ]
    },
    {
     "name": "stdout",
     "output_type": "stream",
     "text": [
      "SampleRate 30 - Tree Depth: 45 - CV Score: [0.92580331 0.92961751 0.92435927 0.92451507 0.92798162] - Val Score: 0.8147083567021873\n",
      "DEPTH 46\n"
     ]
    },
    {
     "name": "stderr",
     "output_type": "stream",
     "text": [
      "\r",
      " 60%|██████    | 6/10 [30:51<20:32, 308.02s/it]"
     ]
    },
    {
     "name": "stdout",
     "output_type": "stream",
     "text": [
      "SampleRate 30 - Tree Depth: 46 - CV Score: [0.92556962 0.92934486 0.92490457 0.92634572 0.92739737] - Val Score: 0.8143578238923164\n",
      "DEPTH 47\n"
     ]
    },
    {
     "name": "stderr",
     "output_type": "stream",
     "text": [
      "\r",
      " 70%|███████   | 7/10 [35:46<15:11, 303.71s/it]"
     ]
    },
    {
     "name": "stdout",
     "output_type": "stream",
     "text": [
      "SampleRate 30 - Tree Depth: 47 - CV Score: [0.92494645 0.92973436 0.92455402 0.92506037 0.92747527] - Val Score: 0.8155496354458778\n",
      "DEPTH 48\n"
     ]
    },
    {
     "name": "stderr",
     "output_type": "stream",
     "text": [
      "\r",
      " 80%|████████  | 8/10 [40:41<10:01, 300.99s/it]"
     ]
    },
    {
     "name": "stdout",
     "output_type": "stream",
     "text": [
      "SampleRate 30 - Tree Depth: 48 - CV Score: [0.926037   0.92957856 0.92502142 0.92622887 0.92638467] - Val Score: 0.8177930454290522\n",
      "DEPTH 49\n"
     ]
    },
    {
     "name": "stderr",
     "output_type": "stream",
     "text": [
      "\r",
      " 90%|█████████ | 9/10 [45:37<04:59, 299.34s/it]"
     ]
    },
    {
     "name": "stdout",
     "output_type": "stream",
     "text": [
      "SampleRate 30 - Tree Depth: 49 - CV Score: [0.92428432 0.93024071 0.92541092 0.92615097 0.92782582] - Val Score: 0.8189848569826136\n",
      "DEPTH 50\n"
     ]
    },
    {
     "name": "stderr",
     "output_type": "stream",
     "text": [
      "100%|██████████| 10/10 [50:44<00:00, 304.41s/it]"
     ]
    },
    {
     "name": "stdout",
     "output_type": "stream",
     "text": [
      "SampleRate 30 - Tree Depth: 50 - CV Score: [0.92572541 0.92950066 0.92618992 0.92548882 0.92747527] - Val Score: 0.8175126191811554\n"
     ]
    },
    {
     "name": "stderr",
     "output_type": "stream",
     "text": [
      "\n",
      "  0%|          | 0/10 [00:00<?, ?it/s]"
     ]
    },
    {
     "name": "stdout",
     "output_type": "stream",
     "text": [
      "DEPTH 41\n"
     ]
    },
    {
     "name": "stderr",
     "output_type": "stream",
     "text": [
      "\r",
      " 10%|█         | 1/10 [04:14<38:11, 254.60s/it]"
     ]
    },
    {
     "name": "stdout",
     "output_type": "stream",
     "text": [
      "SampleRate 60 - Tree Depth: 41 - CV Score: [0.93036027 0.93098076 0.93238296 0.92657942 0.92821532] - Val Score: 0.8299214806505889\n",
      "DEPTH 42\n"
     ]
    },
    {
     "name": "stderr",
     "output_type": "stream",
     "text": [
      "\r",
      " 20%|██        | 2/10 [08:30<34:01, 255.14s/it]"
     ]
    },
    {
     "name": "stdout",
     "output_type": "stream",
     "text": [
      "SampleRate 60 - Tree Depth: 42 - CV Score: [0.92950341 0.92852691 0.9339799  0.92778687 0.92907221] - Val Score: 0.8327257431295569\n",
      "DEPTH 43\n"
     ]
    },
    {
     "name": "stderr",
     "output_type": "stream",
     "text": [
      "\r",
      " 30%|███       | 3/10 [12:46<29:48, 255.49s/it]"
     ]
    },
    {
     "name": "stdout",
     "output_type": "stream",
     "text": [
      "SampleRate 60 - Tree Depth: 43 - CV Score: [0.93071081 0.93148711 0.93386305 0.92860481 0.92751422] - Val Score: 0.8326556365675827\n",
      "DEPTH 44\n"
     ]
    },
    {
     "name": "stderr",
     "output_type": "stream",
     "text": [
      "\r",
      " 40%|████      | 4/10 [17:02<25:36, 256.00s/it]"
     ]
    },
    {
     "name": "stdout",
     "output_type": "stream",
     "text": [
      "SampleRate 60 - Tree Depth: 44 - CV Score: [0.93036027 0.92977331 0.9342136  0.93024071 0.92907221] - Val Score: 0.8331463825014022\n",
      "DEPTH 45\n"
     ]
    },
    {
     "name": "stderr",
     "output_type": "stream",
     "text": [
      "\r",
      " 50%|█████     | 5/10 [21:19<21:21, 256.22s/it]"
     ]
    },
    {
     "name": "stdout",
     "output_type": "stream",
     "text": [
      "SampleRate 60 - Tree Depth: 45 - CV Score: [0.93180136 0.93000701 0.93409675 0.92977331 0.92981226] - Val Score: 0.8327958496915311\n",
      "DEPTH 46\n"
     ]
    },
    {
     "name": "stderr",
     "output_type": "stream",
     "text": [
      "\r",
      " 60%|██████    | 6/10 [25:36<17:06, 256.67s/it]"
     ]
    },
    {
     "name": "stdout",
     "output_type": "stream",
     "text": [
      "SampleRate 60 - Tree Depth: 46 - CV Score: [0.93187926 0.93137026 0.9356937  0.92915011 0.93055231] - Val Score: 0.8349691531127313\n",
      "DEPTH 47\n"
     ]
    },
    {
     "name": "stderr",
     "output_type": "stream",
     "text": [
      "\r",
      " 70%|███████   | 7/10 [30:08<13:04, 261.52s/it]"
     ]
    },
    {
     "name": "stdout",
     "output_type": "stream",
     "text": [
      "SampleRate 60 - Tree Depth: 47 - CV Score: [0.93176241 0.93339565 0.93510945 0.93047441 0.93074706] - Val Score: 0.8351794727986539\n",
      "DEPTH 48\n"
     ]
    },
    {
     "name": "stderr",
     "output_type": "stream",
     "text": [
      "\r",
      " 80%|████████  | 8/10 [34:42<08:50, 265.50s/it]"
     ]
    },
    {
     "name": "stdout",
     "output_type": "stream",
     "text": [
      "SampleRate 60 - Tree Depth: 48 - CV Score: [0.93125609 0.93203241 0.9349926  0.93113656 0.93207136] - Val Score: 0.8346186203028604\n",
      "DEPTH 49\n"
     ]
    },
    {
     "name": "stderr",
     "output_type": "stream",
     "text": [
      "\r",
      " 90%|█████████ | 9/10 [39:06<04:25, 265.02s/it]"
     ]
    },
    {
     "name": "stdout",
     "output_type": "stream",
     "text": [
      "SampleRate 60 - Tree Depth: 49 - CV Score: [0.93039922 0.93246086 0.9360832  0.93133131 0.93285035] - Val Score: 0.8349691531127313\n",
      "DEPTH 50\n"
     ]
    },
    {
     "name": "stderr",
     "output_type": "stream",
     "text": [
      "100%|██████████| 10/10 [43:27<00:00, 260.73s/it]"
     ]
    },
    {
     "name": "stdout",
     "output_type": "stream",
     "text": [
      "SampleRate 60 - Tree Depth: 50 - CV Score: [0.93238559 0.93230506 0.93464205 0.93016281 0.93012386] - Val Score: 0.8335670218732474\n"
     ]
    },
    {
     "name": "stderr",
     "output_type": "stream",
     "text": [
      "\n"
     ]
    }
   ],
   "source": [
    "pred = 0\n",
    "imp = 'mean'\n",
    "\n",
    "root_folder = os.path.join(os.path.abspath('.'), f'processed/patient_data/dx_pred_{pred}_12_3src')\n",
    "data_folder = os.path.join(os.path.abspath('.'), f'processed/patient_data/dx_pred_{pred}_12_3src/ts_aligned')\n",
    "\n",
    "# cv_score_hist = {}\n",
    "# val_score_hist = {}\n",
    "cv_score_hist = np.load('models/RF/cv_score_raw.npy', allow_pickle=True).item()\n",
    "val_score_hist = np.load('models/RF/test_score_raw.npy', allow_pickle=True).item()\n",
    "\n",
    "for resample in [5, 30, 60]:\n",
    "    data = np.load(os.path.join(root_folder, f'ts_aligned_stacked_{pred}_{imp}_{resample}.npz'))\n",
    "    X_train = data['X_train']\n",
    "    y_train = data['y_train']\n",
    "    X_test = data['X_test']\n",
    "    y_test = data['y_test']\n",
    "\n",
    "#     cv_score_hist[resample] = []\n",
    "#     val_score_hist[resample] = []\n",
    "\n",
    "\n",
    "    for tree_depth in tqdm(range(41, 51)):\n",
    "        print(f\"DEPTH {tree_depth}\")\n",
    "        clf = RandomForestClassifier(max_depth=tree_depth, random_state=0)\n",
    "        cv_score = cross_val_score(clf, X_train, y_train, cv=5, scoring='accuracy')\n",
    "        cv_score_hist[resample] += [cv_score.mean()]\n",
    "\n",
    "        clf.fit(X_train, y_train)\n",
    "        val_score = clf.score(X_test, y_test)\n",
    "        val_score_hist[resample] += [val_score]\n",
    "        print(f'SampleRate {resample} - Tree Depth: {tree_depth} - CV Score: {cv_score} - Val Score: {val_score}')\n",
    "        \n",
    "        del clf\n",
    "        \n",
    "        np.save('models/RF/cv_score_raw.npy', cv_score_hist, allow_pickle=True)\n",
    "        np.save('models/RF/test_score_raw.npy', val_score_hist, allow_pickle=True)\n",
    "    \n",
    "    del data\n",
    "    del X_train\n",
    "    del y_train\n",
    "    del X_test\n",
    "    del y_test"
   ]
  },
  {
   "cell_type": "code",
   "execution_count": 2,
   "id": "ed8ef8e5",
   "metadata": {},
   "outputs": [],
   "source": [
    "cv_score_hist = np.load('models/RF/cv_score_raw.npy', allow_pickle=True).item()\n",
    "val_score_hist = np.load('models/RF/test_score_raw.npy', allow_pickle=True).item()"
   ]
  },
  {
   "cell_type": "code",
   "execution_count": 5,
   "id": "c18d648c",
   "metadata": {},
   "outputs": [
    {
     "data": {
      "text/plain": [
       "31"
      ]
     },
     "execution_count": 5,
     "metadata": {},
     "output_type": "execute_result"
    }
   ],
   "source": [
    "len(cv_score_hist[30])"
   ]
  },
  {
   "cell_type": "code",
   "execution_count": 10,
   "id": "32ee7144",
   "metadata": {},
   "outputs": [
    {
     "data": {
      "image/png": "[encoded data removed]",
      "text/plain": [
       "<Figure size 576x432 with 1 Axes>"
      ]
     },
     "metadata": {
      "needs_background": "light"
     },
     "output_type": "display_data"
    }
   ],
   "source": [
    "sample_rate = 60\n",
    "\n",
    "fig, ax = plt.subplots(figsize=(8,6))\n",
    "plt.plot(range(21,52), cv_score_hist[sample_rate], label='CV')\n",
    "plt.plot(range(21,52), val_score_hist[sample_rate], label='Val.')\n",
    "\n",
    "ax.set_ylabel(\"Accuracy\")\n",
    "ax.set_xlabel(\"Model complexity (Tree depth)\")\n",
    "ax.legend()\n",
    "fig.tight_layout()"
   ]
  },
  {
   "cell_type": "code",
   "execution_count": null,
   "id": "7d38a3df",
   "metadata": {},
   "outputs": [],
   "source": []
  },
  {
   "cell_type": "code",
   "execution_count": null,
   "id": "36ada361",
   "metadata": {},
   "outputs": [],
   "source": []
  },
  {
   "cell_type": "code",
   "execution_count": null,
   "id": "dafe8b07",
   "metadata": {},
   "outputs": [],
   "source": [
    "pred = 0 \n",
    "\n",
    "root_folder = os.path.join(os.path.abspath('.'), f'processed/patient_data/dx_pred_{pred}_12_3src')\n",
    "data_folder = os.path.join(os.path.abspath('.'), f'processed/patient_data/dx_pred_{pred}_12_3src/ts_aligned')\n",
    "\n",
    "data = np.load(os.path.join(root_folder, 'ts_aligned_stacked.npz'))\n",
    "X_train = data['X_train']\n",
    "y_train = data['y_train']\n",
    "X_test = data['X_test']\n",
    "y_test = data['y_test']\n",
    "\n",
    "print(X_train.shape, y_train.shape, X_test.shape, y_test.shape)"
   ]
  },
  {
   "cell_type": "markdown",
   "id": "c210965a",
   "metadata": {},
   "source": [
    "# Random Forest"
   ]
  },
  {
   "cell_type": "code",
   "execution_count": 3,
   "id": "9561690e",
   "metadata": {},
   "outputs": [],
   "source": [
    "tree_depth=25\n",
    "\n",
    "for pred in [0, 6, 12]:\n",
    "    \n",
    "    root_folder = os.path.join(os.path.abspath('.'), f'processed/patient_data/dx_pred_{pred}_12_3src')\n",
    "    data_folder = os.path.join(os.path.abspath('.'), f'processed/patient_data/dx_pred_{pred}_12_3src/ts_aligned')\n",
    "\n",
    "    data = np.load(os.path.join(root_folder, 'ts_aligned_stacked_mean.npz'))\n",
    "    X_train = data['X_train']\n",
    "    y_train = data['y_train']\n",
    "    X_test = data['X_test']\n",
    "    y_test = data['y_test']\n",
    "\n",
    "    clf = RandomForestClassifier(max_depth=tree_depth, random_state=0)\n",
    "    clf.fit(X_train, y_train)\n",
    "\n",
    "    save_model_path = f'models/RF/pred{pred}-impmean-sampling5-fulldim.sav'\n",
    "    pickle.dump(clf, open(save_model_path, 'wb'))"
   ]
  },
  {
   "cell_type": "code",
   "execution_count": 7,
   "id": "743d93b5",
   "metadata": {
    "scrolled": true
   },
   "outputs": [
    {
     "name": "stdout",
     "output_type": "stream",
     "text": [
      "acc: 0.7923443634324173\n",
      "recall: 0.6588533417801711\n",
      "precision: 0.5245901639344263\n",
      "f1: 0.5841055883178883\n",
      "auroc: 0.7445702740232448\n"
     ]
    }
   ],
   "source": [
    "from sklearn.metrics import accuracy_score, recall_score, precision_score, f1_score, roc_auc_score\n",
    "y_pred = clf.predict(X_test)\n",
    "\n",
    "METRICS = {\n",
    "    'acc': accuracy_score,\n",
    "    'recall': recall_score,\n",
    "    'precision': precision_score,\n",
    "    'f1': f1_score,\n",
    "    'auroc': roc_auc_score\n",
    "}\n",
    "\n",
    "for metric in METRICS:\n",
    "    print(f'{metric}: {METRICS[metric](y_test, y_pred)}')"
   ]
  },
  {
   "cell_type": "code",
   "execution_count": 4,
   "id": "27659fa4",
   "metadata": {},
   "outputs": [],
   "source": [
    "for pred in [0, 6, 12]:\n",
    "    root_folder = os.path.join(os.path.abspath('.'), f'processed/patient_data/dx_pred_{pred}_12_3src')\n",
    "    data_folder = os.path.join(os.path.abspath('.'), f'processed/patient_data/dx_pred_{pred}_12_3src/ts_aligned')\n",
    "\n",
    "    data = np.load(os.path.join(root_folder, 'ts_aligned_stacked_mean.npz'))\n",
    "    X_train = data['X_train']\n",
    "    y_train = data['y_train']\n",
    "    X_test = data['X_test']\n",
    "    y_test = data['y_test']\n",
    "    \n",
    "    save_model_path = f'models/RF/pred{pred}-impmean-sampling5-fulldim.sav'\n",
    "    clf = pickle.load(open(save_model_path, 'rb'))\n",
    "\n",
    "    feature_names = pd.read_csv(os.path.join(data_folder, 'pos', 'data', os.listdir(os.path.join(data_folder, 'pos', 'data'))[0]),\n",
    "                                sep=';', header=0, index_col=[0,1]).columns.to_numpy()\n",
    "\n",
    "    # Create Tree Explainer object that can calculate shap values\n",
    "    X_shap, _, y_shap, _ = train_test_split(X_test, y_test, train_size=.02, \n",
    "                                            random_state=0, shuffle=True, stratify=y_test)\n",
    "\n",
    "    shap_explainer = shap.TreeExplainer(clf)\n",
    "    shap_values = shap_explainer.shap_values(X_shap, y_shap)\n",
    "\n",
    "    sv = np.empty(len(shap_values),dtype=object)\n",
    "    sv[:] = shap_values\n",
    "    np.save(f'models/RF/pred{pred}-impmean-sampling5-fulldim_shap.npy',\n",
    "           sv)"
   ]
  },
  {
   "cell_type": "code",
   "execution_count": 3,
   "id": "e4d7a995",
   "metadata": {},
   "outputs": [],
   "source": [
    "pred = 0\n",
    "root_folder = os.path.join(os.path.abspath('.'), f'processed/patient_data/dx_pred_{pred}_12_3src')\n",
    "data_folder = os.path.join(os.path.abspath('.'), f'processed/patient_data/dx_pred_{pred}_12_3src/ts_aligned')\n",
    "\n",
    "shap_values = np.load(f'models/RF/pred{pred}-impmean-sampling5-fulldim_shap.npy', allow_pickle=True)\n",
    "feature_names = pd.read_csv(os.path.join(data_folder, 'pos', 'data', os.listdir(os.path.join(data_folder, 'pos', 'data'))[0]),\n",
    "                                sep=';', header=0, index_col=[0,1]).columns.to_numpy()\n",
    "\n",
    "shap_mean = []\n",
    "shap_abs_mean = []\n",
    "for sv in shap_values:\n",
    "    tmp = sv[:, 4:]\n",
    "    tmp = tmp.reshape(tmp.shape[0], 144, 25)\n",
    "    shap_mean.append(tmp.mean(axis=1))\n",
    "    shap_abs_mean.append(np.mean(np.abs(tmp), axis=1))"
   ]
  },
  {
   "cell_type": "code",
   "execution_count": 4,
   "id": "f1207db7",
   "metadata": {},
   "outputs": [
    {
     "data": {
      "image/png": "[encoded data removed]",
      "text/plain": [
       "<Figure size 576x684 with 1 Axes>"
      ]
     },
     "metadata": {
      "needs_background": "light"
     },
     "output_type": "display_data"
    }
   ],
   "source": [
    "shap.summary_plot(shap_mean, feature_names=feature_names, plot_type='bar')"
   ]
  },
  {
   "cell_type": "code",
   "execution_count": 5,
   "id": "77781c6a",
   "metadata": {},
   "outputs": [
    {
     "data": {
      "image/png": "[encoded data removed]",
      "text/plain": [
       "<Figure size 576x684 with 1 Axes>"
      ]
     },
     "metadata": {
      "needs_background": "light"
     },
     "output_type": "display_data"
    }
   ],
   "source": [
    "shap.summary_plot(shap_abs_mean, feature_names=feature_names, plot_type='bar')"
   ]
  },
  {
   "cell_type": "markdown",
   "id": "dc813602",
   "metadata": {},
   "source": [
    "# SVM"
   ]
  },
  {
   "cell_type": "code",
   "execution_count": 2,
   "id": "86182476",
   "metadata": {},
   "outputs": [],
   "source": [
    "for pred in [0, 6, 12]:\n",
    "    \n",
    "    root_folder = os.path.join(os.path.abspath('.'), f'processed/patient_data/dx_pred_{pred}_12_3src')\n",
    "    data_folder = os.path.join(os.path.abspath('.'), f'processed/patient_data/dx_pred_{pred}_12_3src/ts_aligned')\n",
    "\n",
    "    data = np.load(os.path.join(root_folder, 'ts_aligned_stacked_mean.npz'))\n",
    "    X_train = data['X_train']\n",
    "    y_train = data['y_train']\n",
    "    X_test = data['X_test']\n",
    "    y_test = data['y_test']\n",
    "\n",
    "    clf = svm.SVC(random_state=0)\n",
    "    clf.fit(X_train, y_train)\n",
    "\n",
    "    save_model_path = f'models/SVM/pred{pred}-impmean-sampling5-fulldim.sav'\n",
    "    pickle.dump(clf, open(save_model_path, 'wb'))"
   ]
  },
  {
   "cell_type": "code",
   "execution_count": 3,
   "id": "b380f6b5",
   "metadata": {},
   "outputs": [],
   "source": [
    "# clf = svm.SVC()\n",
    "# clf.fit(X_train, y_train)\n",
    "\n",
    "import pickle\n",
    "\n",
    "svm_model_file = 'models/SVM/full_data.sav'\n",
    "# pickle.dump(clf, open(svm_model_file, 'wb'))\n",
    "\n",
    "clf = pickle.load(open(svm_model_file, 'rb'))"
   ]
  },
  {
   "cell_type": "code",
   "execution_count": 7,
   "id": "befb8527",
   "metadata": {},
   "outputs": [
    {
     "name": "stdout",
     "output_type": "stream",
     "text": [
      "acc: 0.7477565900168256\n",
      "recall: 0.7089008552423186\n",
      "precision: 0.45515558267236117\n",
      "f1: 0.5543720584592519\n",
      "auroc: 0.7338508057610711\n"
     ]
    }
   ],
   "source": [
    "y_pred = clf.predict(X_test)\n",
    "\n",
    "METRICS = {\n",
    "    'acc': accuracy_score,\n",
    "    'recall': recall_score,\n",
    "    'precision': precision_score,\n",
    "    'f1': f1_score,\n",
    "    'auroc': roc_auc_score\n",
    "}\n",
    "\n",
    "for metric in METRICS:\n",
    "    print(f'{metric}: {METRICS[metric](y_test, y_pred)}')"
   ]
  },
  {
   "cell_type": "code",
   "execution_count": 6,
   "id": "81510975",
   "metadata": {},
   "outputs": [
    {
     "name": "stdout",
     "output_type": "stream",
     "text": [
      "kmeans done.\n"
     ]
    },
    {
     "data": {
      "application/vnd.jupyter.widget-view+json": {
       "model_id": "59543d65ed7b498f85ee17097d384a35",
       "version_major": 2,
       "version_minor": 0
      },
      "text/plain": [
       "  0%|          | 0/49 [00:00<?, ?it/s]"
      ]
     },
     "metadata": {},
     "output_type": "display_data"
    }
   ],
   "source": [
    "for pred in [12]:\n",
    "    root_folder = os.path.join(os.path.abspath('.'), f'processed/patient_data/dx_pred_{pred}_12_3src')\n",
    "    data_folder = os.path.join(os.path.abspath('.'), f'processed/patient_data/dx_pred_{pred}_12_3src/ts_aligned')\n",
    "\n",
    "    data = np.load(os.path.join(root_folder, 'ts_aligned_stacked_mean.npz'))\n",
    "    X_train = data['X_train']\n",
    "    y_train = data['y_train']\n",
    "    X_test = data['X_test']\n",
    "    y_test = data['y_test']\n",
    "    \n",
    "    save_model_path = f'models/SVM/pred{pred}-impmean-sampling5-fulldim.sav'\n",
    "    clf = pickle.load(open(save_model_path, 'rb'))\n",
    "\n",
    "    feature_names = pd.read_csv(os.path.join(data_folder, 'pos', 'data', os.listdir(os.path.join(data_folder, 'pos', 'data'))[0]),\n",
    "                                sep=';', header=0, index_col=[0,1]).columns.to_numpy()\n",
    "\n",
    "    # Create Tree Explainer object that can calculate shap values\n",
    "    X_shap, _, y_shap, _ = train_test_split(X_test, y_test, train_size=.004, \n",
    "                                            random_state=0, shuffle=True, stratify=y_test)\n",
    "    \n",
    "    X_shap_summary = shap.kmeans(X_train, 20)\n",
    "    print('kmeans done.')\n",
    "    shap_explainer = shap.KernelExplainer(clf.predict, X_shap_summary)\n",
    "    shap_values = shap_explainer.shap_values(X_shap, nsamples=100)\n",
    "\n",
    "    np.save(f'models/SVM/pred{pred}-impmean-sampling5-fulldim_shap.npy',\n",
    "           shap_values)"
   ]
  },
  {
   "cell_type": "code",
   "execution_count": 7,
   "id": "697dfdae",
   "metadata": {},
   "outputs": [
    {
     "data": {
      "text/plain": [
       "((49, 3604), (49, 25))"
      ]
     },
     "execution_count": 7,
     "metadata": {},
     "output_type": "execute_result"
    }
   ],
   "source": [
    "shap_values = np.load(f'models/SVM/pred12-impmean-sampling5-fulldim_shap.npy')\n",
    "\n",
    "shap_mean = []\n",
    "shap_abs_mean = []\n",
    "\n",
    "tmp = shap_values[:, 4:]\n",
    "tmp = tmp.reshape(tmp.shape[0], 144, 25)\n",
    "shap_mean.append(tmp.mean(axis=1))\n",
    "shap_abs_mean.append(np.mean(np.abs(tmp), axis=1))\n",
    "\n",
    "shap_values.shape, shap_mean[0].shape"
   ]
  },
  {
   "cell_type": "code",
   "execution_count": 8,
   "id": "b3a9d2f1",
   "metadata": {},
   "outputs": [
    {
     "data": {
      "image/png": "[encoded data removed]",
      "text/plain": [
       "<Figure size 576x684 with 1 Axes>"
      ]
     },
     "metadata": {
      "needs_background": "light"
     },
     "output_type": "display_data"
    }
   ],
   "source": [
    "feature_names = pd.read_csv(os.path.join(data_folder, 'pos', 'data', os.listdir(os.path.join(data_folder, 'pos', 'data'))[0]),\n",
    "                                sep=';', header=0, index_col=[0,1]).columns.to_numpy()\n",
    "shap.summary_plot(shap_mean[0], feature_names=feature_names, plot_type='bar')"
   ]
  },
  {
   "cell_type": "code",
   "execution_count": 16,
   "id": "bb58ff1c",
   "metadata": {},
   "outputs": [
    {
     "data": {
      "image/png": "[encoded data removed]",
      "text/plain": [
       "<Figure size 576x684 with 1 Axes>"
      ]
     },
     "metadata": {
      "needs_background": "light"
     },
     "output_type": "display_data"
    }
   ],
   "source": []
  },
  {
   "cell_type": "code",
   "execution_count": 17,
   "id": "f53e9a19",
   "metadata": {},
   "outputs": [
    {
     "data": {
      "image/png": "[encoded data removed]",
      "text/plain": [
       "<Figure size 576x684 with 1 Axes>"
      ]
     },
     "metadata": {
      "needs_background": "light"
     },
     "output_type": "display_data"
    }
   ],
   "source": [
    "shap.summary_plot(shap_abs_mean[0], feature_names=feature_names, plot_type='bar')"
   ]
  },
  {
   "cell_type": "code",
   "execution_count": 19,
   "id": "54d0f747",
   "metadata": {},
   "outputs": [],
   "source": [
    "np.save('plots/pred_0_12/svm_shap_values_full_data.npy', shap_values)"
   ]
  },
  {
   "cell_type": "code",
   "execution_count": 18,
   "id": "25c7bdf2",
   "metadata": {},
   "outputs": [
    {
     "data": {
      "text/plain": [
       "(57, 3604)"
      ]
     },
     "execution_count": 18,
     "metadata": {},
     "output_type": "execute_result"
    }
   ],
   "source": [
    "shap_values.shape"
   ]
  },
  {
   "cell_type": "code",
   "execution_count": null,
   "id": "0758a14f",
   "metadata": {},
   "outputs": [],
   "source": []
  }
 ],
 "metadata": {
  "kernelspec": {
   "display_name": "torch-py36",
   "language": "python",
   "name": "torch-py36"
  },
  "language_info": {
   "codemirror_mode": {
    "name": "ipython",
    "version": 3
   },
   "file_extension": ".py",
   "mimetype": "text/x-python",
   "name": "python",
   "nbconvert_exporter": "python",
   "pygments_lexer": "ipython3",
   "version": "3.6.9"
  }
 },
 "nbformat": 4,
 "nbformat_minor": 5
}
